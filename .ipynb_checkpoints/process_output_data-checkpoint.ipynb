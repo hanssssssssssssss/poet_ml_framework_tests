{
 "cells": [
  {
   "cell_type": "markdown",
   "id": "7d476324-fc3c-4351-874c-d5763ba8ed28",
   "metadata": {},
   "source": [
    "## Display results POET AI Surrogate ML framework tests"
   ]
  },
  {
   "cell_type": "code",
   "execution_count": 3,
   "id": "3fe25095-18cd-40f1-874d-3fdbc6d42527",
   "metadata": {},
   "outputs": [],
   "source": [
    "import csv"
   ]
  },
  {
   "cell_type": "code",
   "execution_count": 11,
   "id": "bf577d3b-c134-4972-8980-c1c637230048",
   "metadata": {},
   "outputs": [],
   "source": [
    "experiments = {}\n",
    "with open(\"experiments.csv\") as file:\n",
    "    csv_reader = csv.reader(file, delimiter =\",\")\n",
    "    next(csv_reader) #skip header row\n",
    "    for row in csv_reader:\n",
    "        experiments[row[4]] = {\n",
    "            \"framework\": row[0],\n",
    "            \"task\": row[1],\n",
    "            \"model\": row[2],\n",
    "            \"batch_size\": row[3]}\n",
    "print(experiments)\n",
    "    "
   ]
  },
  {
   "cell_type": "code",
   "execution_count": null,
   "id": "16a7dcdd-43c1-426c-a13c-ad6c7114ff7d",
   "metadata": {},
   "outputs": [],
   "source": []
  }
 ],
 "metadata": {
  "kernelspec": {
   "display_name": "Python 3 (ipykernel)",
   "language": "python",
   "name": "python3"
  },
  "language_info": {
   "codemirror_mode": {
    "name": "ipython",
    "version": 3
   },
   "file_extension": ".py",
   "mimetype": "text/x-python",
   "name": "python",
   "nbconvert_exporter": "python",
   "pygments_lexer": "ipython3",
   "version": "3.12.4"
  }
 },
 "nbformat": 4,
 "nbformat_minor": 5
}
