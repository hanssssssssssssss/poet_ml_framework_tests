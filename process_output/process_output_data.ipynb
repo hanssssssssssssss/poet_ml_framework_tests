{
 "cells": [
  {
   "cell_type": "markdown",
   "id": "7d476324-fc3c-4351-874c-d5763ba8ed28",
   "metadata": {},
   "source": [
    "# Display results POET AI Surrogate ML framework tests"
   ]
  },
  {
   "cell_type": "code",
   "execution_count": 10,
   "id": "3fe25095-18cd-40f1-874d-3fdbc6d42527",
   "metadata": {},
   "outputs": [],
   "source": [
    "import csv\n",
    "# function to get EMA data for conducted experiments\n",
    "def get_EMA_data(PID):\n",
    "    power = {\n",
    "        \"load_data\": {\"GPU\": 0, \"CPU\": 0},\n",
    "        \"setup\": {\"GPU\": 0, \"CPU\": 0},\n",
    "        \"process_data\": {\"GPU\": 0, \"CPU\": 0}\n",
    "        }\n",
    "    time = {\n",
    "        \"load_data\": 0,\n",
    "        \"setup\": 0,\n",
    "        \"process_data\": 0\n",
    "        }\n",
    "    with open(\"output.EMA.\" + PID) as file:\n",
    "        csv_reader = csv.reader(file, delimiter =\",\")\n",
    "        next(csv_reader) # skip header row\n",
    "        for i, row in enumerate(csv_reader):\n",
    "            if row[6] == \"NVIDIA A2\":\n",
    "                device = \"GPU\"\n",
    "            elif \"CPU-\" in row[6]:\n",
    "                device = \"CPU\"\n",
    "            else:\n",
    "                print(\"UNKNOWN EMA DEVICE!\")\n",
    "            power[row[1]][device] += int(row[7])\n",
    "            if time[row[1]] == 0: # time is only taken from first device\n",
    "                time[row[1]] = int(row[8])\n",
    "        return [power, time]\n",
    "    \n",
    "def get_csv_data(PID, data_type):\n",
    "    try: # GPU files ony exist for jobs on GPU nodes, training history only for train jobs \n",
    "        with open(\"output.\" + data_type + \".\" + PID) as file:\n",
    "            csv_reader = csv.reader(file, delimiter =\",\")\n",
    "            return next(csv_reader)\n",
    "    except OSError:\n",
    "        return []"
   ]
  },
  {
   "cell_type": "code",
   "execution_count": 11,
   "id": "bf577d3b-c134-4972-8980-c1c637230048",
   "metadata": {},
   "outputs": [],
   "source": [
    "# read parameters and results of conducted experiments\n",
    "experiments = {}\n",
    "with open(\"experiments.csv\") as file:\n",
    "    csv_reader = csv.reader(file, delimiter =\",\")\n",
    "    next(csv_reader) # skip header row\n",
    "    for row in csv_reader:\n",
    "        ema_data = get_EMA_data(row[4])\n",
    "        experiments[row[4]] = {\n",
    "            \"framework\": row[0],\n",
    "            \"task\": row[1],\n",
    "            \"device\": row[5],\n",
    "            \"model\": row[2],\n",
    "            \"batch_size\": row[3],\n",
    "            \"power\": ema_data[0], # in micro joules\n",
    "            \"time\": ema_data[1], # in micro seconds\n",
    "            \"GPU_usage\": get_csv_data(row[4], \"GPU_usage\"),  # percentage in 100 ms intervals\n",
    "            \"training_val_loss\": get_csv_data(row[4], \"training_history\"),\n",
    "            }"
   ]
  },
  {
   "cell_type": "code",
   "execution_count": 15,
   "id": "5d96cacc",
   "metadata": {},
   "outputs": [
    {
     "name": "stdout",
     "output_type": "stream",
     "text": [
      "24899 train {'load_data': {'GPU': 3132000, 'CPU': 32010624}, 'setup': {'GPU': 164166000, 'CPU': 1310787565}, 'process_data': {'GPU': 9275111000, 'CPU': 22877094652}}\n",
      "12904 train {'load_data': {'GPU': 7558000, 'CPU': 32772630}, 'setup': {'GPU': 216262000, 'CPU': 1309484979}, 'process_data': {'GPU': 31433618000, 'CPU': 46774561064}}\n",
      "975 predict {'load_data': {'GPU': 5140000, 'CPU': 20290999}, 'setup': {'GPU': 263625000, 'CPU': 1311740406}, 'process_data': {'GPU': 926766000, 'CPU': 2105519803}}\n",
      "1222 predict {'load_data': {'GPU': 2033000, 'CPU': 21375257}, 'setup': {'GPU': 158058000, 'CPU': 1299897812}, 'process_data': {'GPU': 1598947000, 'CPU': 4341897009}}\n",
      "13881 train {'load_data': {'GPU': 0, 'CPU': 33968802}, 'setup': {'GPU': 0, 'CPU': 1089064899}, 'process_data': {'GPU': 0, 'CPU': 65411063883}}\n",
      "3841 predict {'load_data': {'GPU': 0, 'CPU': 0}, 'setup': {'GPU': 0, 'CPU': 0}, 'process_data': {'GPU': 0, 'CPU': 0}}\n",
      "4686 predict {'load_data': {'GPU': 0, 'CPU': 0}, 'setup': {'GPU': 0, 'CPU': 0}, 'process_data': {'GPU': 0, 'CPU': 0}}\n"
     ]
    }
   ],
   "source": [
    "## Runtime by framework\n",
    "for pid, data in experiments.items():\n",
    "    print(pid, data[\"task\"], data[\"power\"])"
   ]
  },
  {
   "cell_type": "code",
   "execution_count": null,
   "id": "20287210",
   "metadata": {},
   "outputs": [],
   "source": []
  }
 ],
 "metadata": {
  "kernelspec": {
   "display_name": "Python 3 (ipykernel)",
   "language": "python",
   "name": "python3"
  },
  "language_info": {
   "codemirror_mode": {
    "name": "ipython",
    "version": 3
   },
   "file_extension": ".py",
   "mimetype": "text/x-python",
   "name": "python",
   "nbconvert_exporter": "python",
   "pygments_lexer": "ipython3",
   "version": "3.12.4"
  }
 },
 "nbformat": 4,
 "nbformat_minor": 5
}
